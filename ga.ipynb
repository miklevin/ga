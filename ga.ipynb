{
 "cells": [
  {
   "cell_type": "code",
   "execution_count": null,
   "id": "8f42999e-114a-4146-9dab-2eeefc605d5e",
   "metadata": {},
   "outputs": [],
   "source": [
    "%load_ext lab_black"
   ]
  },
  {
   "cell_type": "code",
   "execution_count": null,
   "id": "d635e6c1-3c28-417d-8f94-1bb509223983",
   "metadata": {},
   "outputs": [],
   "source": [
    "import ohawf\n",
    "import pandas as pd\n",
    "from math import isnan\n",
    "from collections import namedtuple\n",
    "from apiclient.discovery import build\n",
    "from datetime import datetime, timedelta\n",
    "from sqlitedict import SqliteDict as sqldict\n",
    "from dateutil.relativedelta import relativedelta"
   ]
  },
  {
   "cell_type": "code",
   "execution_count": null,
   "id": "1ca9dd11-2b69-4b75-8090-1d47c60ddccd",
   "metadata": {},
   "outputs": [],
   "source": [
    "creds = ohawf.get()"
   ]
  },
  {
   "cell_type": "code",
   "execution_count": null,
   "id": "b58d0186-1cb9-4210-a9ed-6b9c9ceb40b8",
   "metadata": {},
   "outputs": [],
   "source": [
    "ga_service = build(\"analytics\", \"v3\", credentials=creds)\n",
    "get = ga_service.data().ga().get\n",
    "\n",
    "metrics = [\n",
    "    \"users\",\n",
    "    \"sessions\",\n",
    "    \"bounceRate\",\n",
    "    \"avgSessionDuration\",\n",
    "    \"pageviewsPerSession\",\n",
    "]\n",
    "\n",
    "ga_metrics = \",\".join([f\"ga:{x}\" for x in metrics])\n",
    "ga_metrics\n",
    "\n",
    "def ga(brand, gaid, segment, start_date, end_date):\n",
    "    if segment:\n",
    "        segment = f\"gaid::{segment}\"\n",
    "    req = get(\n",
    "        ids=f\"ga:{gaid}\",\n",
    "        start_date=str(start_date),\n",
    "        end_date=str(end_date),\n",
    "        metrics=ga_metrics,\n",
    "        segment=segment,\n",
    "        filters=\"ga:country==United States\",\n",
    "        samplingLevel=\"HIGHER_PRECISION\",\n",
    "    )\n",
    "    resp = req.execute()\n",
    "    return resp"
   ]
  },
  {
   "cell_type": "code",
   "execution_count": null,
   "id": "8d729bc9-8ed4-4071-94b1-07dab2e822d5",
   "metadata": {},
   "outputs": [],
   "source": [
    "Args = namedtuple(\"Args\", \"brand, gaid, segment, start_date, end_date\")\n",
    "df = pd.read_csv(\"sites.csv\")\n",
    "with sqldict(\"ga.db\") as db:\n",
    "    for item in df.to_records():\n",
    "        x, gaid, name, segment = item\n",
    "        if type(segment) == float and isnan(segment):\n",
    "            segment = None\n",
    "        for x in range(12):\n",
    "            start_date = datetime.now().date().replace(day=1) - relativedelta(months=x)\n",
    "            end_date = start_date + relativedelta(months=1) - relativedelta(days=1)\n",
    "            arg = Args(name, gaid, segment, f\"{start_date}\", f\"{end_date}\")\n",
    "            db[str(arg)] = ga(*arg)\n",
    "            db.commit()"
   ]
  },
  {
   "cell_type": "code",
   "execution_count": null,
   "id": "c49cbef7-13f4-4fd2-90bf-633c6a7469f4",
   "metadata": {},
   "outputs": [],
   "source": [
    "table = []\n",
    "with sqldict(\"ga.db\") as db:\n",
    "    for arg in db:\n",
    "        earg = eval(arg)\n",
    "        year, month, day = earg.start_date.split(\"-\")\n",
    "        result = [month, year] + db[arg][\"rows\"][0] + [earg.brand]\n",
    "        table.append(result)\n",
    "\n",
    "columns = [\"month\", \"year\"] + metrics + [\"brand\"]\n",
    "df = pd.DataFrame(table, columns=columns)\n",
    "df.to_csv(\"ga_datapull.csv\", index=False)"
   ]
  },
  {
   "cell_type": "code",
   "execution_count": null,
   "id": "09341c51-3758-44c1-a228-dea73cffd080",
   "metadata": {},
   "outputs": [],
   "source": [
    "df"
   ]
  },
  {
   "cell_type": "code",
   "execution_count": null,
   "id": "cc9403e0-0adf-495f-a60b-1d6b4b948a8d",
   "metadata": {},
   "outputs": [],
   "source": []
  }
 ],
 "metadata": {
  "kernelspec": {
   "display_name": "Python 3 (ipykernel)",
   "language": "python",
   "name": "python3"
  },
  "language_info": {
   "codemirror_mode": {
    "name": "ipython",
    "version": 3
   },
   "file_extension": ".py",
   "mimetype": "text/x-python",
   "name": "python",
   "nbconvert_exporter": "python",
   "pygments_lexer": "ipython3",
   "version": "3.11.0"
  }
 },
 "nbformat": 4,
 "nbformat_minor": 5
}
